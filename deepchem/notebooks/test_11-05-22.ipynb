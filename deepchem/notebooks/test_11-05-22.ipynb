{
 "cells": [
  {
   "cell_type": "markdown",
   "id": "37c3f12c",
   "metadata": {},
   "source": [
    "### Importing libraries and csv files"
   ]
  },
  {
   "cell_type": "code",
   "execution_count": 188,
   "id": "f6639c5f",
   "metadata": {},
   "outputs": [],
   "source": [
    "import tensorflow as tf\n",
    "physical_devices = tf.config.experimental.list_physical_devices('GPU')\n",
    "assert len(physical_devices) > 0, \"Not enough GPU hardware devices available\"\n",
    "config = tf.config.experimental.set_memory_growth(physical_devices[0], True)\n",
    "# len(tf.config.list_physical_devices('GPU'))"
   ]
  },
  {
   "cell_type": "code",
   "execution_count": 189,
   "id": "b7209951",
   "metadata": {},
   "outputs": [
    {
     "data": {
      "text/plain": [
       "[PhysicalDevice(name='/physical_device:GPU:0', device_type='GPU')]"
      ]
     },
     "execution_count": 189,
     "metadata": {},
     "output_type": "execute_result"
    }
   ],
   "source": [
    "physical_devices"
   ]
  },
  {
   "cell_type": "code",
   "execution_count": null,
   "id": "614d3714",
   "metadata": {},
   "outputs": [],
   "source": [
    "# Login in shell (required only once)\n",
    "# !wandb login\n",
    "\n",
    "# Login in notebook (required only once)\n",
    "import wandb\n",
    "wandb.login()\n",
    "\n",
    "# Initialize a WandbLogger\n",
    "from deepchem.models import WandbLogger\n",
    "logger = WandbLogger(name=\"embeddings loss\", project=\"deepchem-trial\")\n",
    "\n",
    "\n",
    "# Set `wandb_logger` when creating `KerasModel`\n",
    "# import deepchem as dc\n",
    "# # Log training loss to wandb\n",
    "# model = dc.models.KerasModel(…, wandb_logger=logger)\n",
    "# model.fit(…)\n",
    "\n",
    "# # Log validation metrics to wandb using ValidationCallback\n",
    "# import deepchem as dc\n",
    "# vc = dc.models.ValidationCallback(…)\n",
    "# model = KerasModel(…, wandb_logger=logger)\n",
    "# model.fit(…, callbacks=[vc])\n",
    "# logger.finish()"
   ]
  },
  {
   "cell_type": "code",
   "execution_count": 73,
   "id": "c00e68ca",
   "metadata": {},
   "outputs": [],
   "source": [
    "import deepchem as dc\n",
    "import pandas as pd\n",
    "import numpy as np\n",
    "from tqdm import tqdm,trange\n",
    "from deepchem.models.optimizers import Adam, ExponentialDecay\n",
    "from pathlib import Path\n",
    "\n",
    "path = Path()\n",
    "train_csv = path.glob(\"../datasets/chembl/chembl_train.csv\")\n",
    "test_csv = path.glob(\"../datasets/chembl/chembl_test.csv\")\n",
    "valid_csv = path.glob(\"../datasets/chembl/chembl_valid.csv\")\n",
    "train_dataset = pd.read_csv(train_csv.__next__())\n",
    "test_dataset = pd.read_csv(test_csv.__next__())\n",
    "valid_dataset = pd.read_csv(valid_csv.__next__())"
   ]
  },
  {
   "cell_type": "code",
   "execution_count": 114,
   "id": "f7588830",
   "metadata": {},
   "outputs": [],
   "source": [
    "# eliminating SMILES > 100 in length\n",
    "def df_masker(df, length=100):\n",
    "    '''\n",
    "    df is a dataframe object with a SMILES column\n",
    "    length is the cutoff for the SMILES string lengths\n",
    "    '''\n",
    "    mask = (df['SMILES'].str.len() <= length)\n",
    "    df = df.loc[mask]\n",
    "    print(df)\n",
    "    print('\\n')\n",
    "    return df"
   ]
  },
  {
   "cell_type": "code",
   "execution_count": 115,
   "id": "0e22cbbd",
   "metadata": {},
   "outputs": [
    {
     "name": "stdout",
     "output_type": "stream",
     "text": [
      "                                                   SMILES\n",
      "0                    Oc1ccccc1\\C=N\\c2ccccc2\\N=C\\c3ccccc3O\n",
      "2                            Oc1cnc2[nH]c3cnc(cc3c2c1)C#N\n",
      "3       COc1c(C)c2COC(=O)c2c(O)c1CCOP(=O)(O)CCSc3nc4c(...\n",
      "4            C[C@H]1CN(CCCN(c2ccccc2)c3ccccc3)C[C@H](C)N1\n",
      "5       COc1ccc(cc1OCCN2CCCCC2)C3=C(C)CN(C3=O)c4ccc(Cl...\n",
      "...                                                   ...\n",
      "195632          O=C([C@@H]1CCc2cc(ccc2C1)c3ccccc3)c4occn4\n",
      "195633  CS(=O)(=O)Nc1cccc(OCCN2CCC(Cc3ccc4CCC(=O)Nc4c3...\n",
      "195634  COc1ccc(CC(=O)NC(=N)N[C@H](CC(C)C)C(=O)NCc2ccc...\n",
      "195635     CSc1ccc(cc1)c2cn(C)nc2C3CCC(F)(F)CC3C(=O)NCC#N\n",
      "195636       Oc1c2C(=O)N(Cc3ccccc3Br)C(=O)c2c(O)c4nccnc14\n",
      "\n",
      "[187621 rows x 1 columns]\n",
      "\n",
      "\n",
      "                                                  SMILES\n",
      "0      CCN(CCCc1ccccc1)[C@@H]2CC[C@@H](C[C@H]2O)OCc3c...\n",
      "1      CN1CCN(CC1)c2cc(Nc3ncc(s3)c4ccc(NC(=O)Nc5ccccc...\n",
      "2                 FC(F)(F)c1ccc(Sc2ccc3CC4CNCCN4c3c2)cc1\n",
      "3      CCCc1nc2ccccc2n1Cc3ccc(cc3)c4ccccc4S(=O)(=O)Nc...\n",
      "4      O=S(=O)(N1CCNCC1)c2ccc(CN3CCCc4cc5[nH]cnc5cc34...\n",
      "...                                                  ...\n",
      "24331  Brc1ccc(Oc2ccc(cc2)C3(N4CCN(CC4)c5ccc(I)cc5)C(...\n",
      "24332         Cn1nnc2ccc(cc12)[C@H](c3ccc(Cl)cc3)n4cncn4\n",
      "24333        CCCCC[C@H](O)\\C=C\\[C@H]1CCC(=O)N1CCSCC(=O)O\n",
      "24334  C[C@@H](N1CCN(C[C@@H]1C)S(=O)(=O)C)c2cnc(Nc3cc...\n",
      "24335  Cc1cccc(c1)S(=O)(=O)NCCCCN2CCC(CC2)c3noc4cc(F)...\n",
      "\n",
      "[23347 rows x 1 columns]\n",
      "\n",
      "\n",
      "                                                  SMILES\n",
      "1      OC1(C[C@@H]2CC[C@H](C1)N2Cc3coc4ccccc34)c5ccc(...\n",
      "2                 NCCSC(c1ccccc1)(c2ccccc2)c3ccc(cc3)C#N\n",
      "3      CCc1ccc(cc1)c2c(cnn2C)c3nn(C)c4ncnc(N5CC(C5)c6...\n",
      "4      Clc1ccc2Nc3ccccc3C(=Nc2c1)N4CCN(CCCNC(=O)CCCCC...\n",
      "5      CC(C)Oc1cc(C2CCN(CC2)[C@H]3CCS(=O)(=O)C3)c(C)c...\n",
      "...                                                  ...\n",
      "24267  Cc1cccc(N2CCN(CC2)C(=O)c3nn(c4ccc(Cl)cc4Cl)c(c...\n",
      "24268         O=C1Cc2ccccc2N1CCCCN3CC[C@H]4CCCC[C@@H]4C3\n",
      "24269  CC(CN1CC2CCCCC2C(C1)C(=O)N3CCN(CC3)c4cccc5nccn...\n",
      "24270  COc1ccc(cc1)S(=O)(=O)N2CN(C3CCCCC3)C(=O)C[C@@H...\n",
      "24271  CC(C)(O)c1ccc(cn1)C(Cc2cc[n+]([O-])cc2)c3ccc(O...\n",
      "\n",
      "[23260 rows x 1 columns]\n",
      "\n",
      "\n"
     ]
    }
   ],
   "source": [
    "train_dataset = df_masker(train_dataset)\n",
    "test_dataset = df_masker(test_dataset)\n",
    "valid_dataset = df_masker(valid_dataset)"
   ]
  },
  {
   "cell_type": "markdown",
   "id": "b584d953",
   "metadata": {},
   "source": [
    "#### using numpy arrays as inputs"
   ]
  },
  {
   "cell_type": "code",
   "execution_count": 116,
   "id": "eb9895f1",
   "metadata": {},
   "outputs": [],
   "source": [
    "\n",
    "train_smiles = pd.DataFrame(train_dataset).to_numpy().astype(str)\n",
    "test_smiles = pd.DataFrame(test_dataset).to_numpy().astype(str)\n",
    "valid_smiles = pd.DataFrame(valid_dataset).to_numpy().astype(str)\n",
    "\n",
    "# train_smiles = train_smiles[\"SMILES\"]\n",
    "# valid_smiles = valid_smiles[\"SMILES\"]\n",
    "# test_smiles = test_smiles[\"SMILES\"]\n"
   ]
  },
  {
   "cell_type": "code",
   "execution_count": 134,
   "id": "38db9e66",
   "metadata": {},
   "outputs": [
    {
     "name": "stdout",
     "output_type": "stream",
     "text": [
      "['Oc1ccccc1\\\\C=N\\\\c2ccccc2\\\\N=C\\\\c3ccccc3O' 'Oc1cnc2[nH]c3cnc(cc3c2c1)C#N'\n",
      " 'COc1c(C)c2COC(=O)c2c(O)c1CCOP(=O)(O)CCSc3nc4c(N)ncnc4n3[C@H]5O[C@@H](CO)[C@H](O)[C@@H]5O'\n",
      " ... 'COc1ccc(CC(=O)NC(=N)N[C@H](CC(C)C)C(=O)NCc2ccc(cc2)c3nnn[nH]3)cc1OC'\n",
      " 'CSc1ccc(cc1)c2cn(C)nc2C3CCC(F)(F)CC3C(=O)NCC#N'\n",
      " 'Oc1c2C(=O)N(Cc3ccccc3Br)C(=O)c2c(O)c4nccnc14']\n"
     ]
    }
   ],
   "source": [
    "print(train_smiles)"
   ]
  },
  {
   "cell_type": "code",
   "execution_count": 118,
   "id": "f14de4ed",
   "metadata": {},
   "outputs": [],
   "source": [
    "# flatten the numpy arrays\n",
    "train_smiles = np.squeeze(train_smiles)\n",
    "test_smiles = np.squeeze(test_smiles)\n",
    "valid_smiles = np.squeeze(valid_smiles)"
   ]
  },
  {
   "cell_type": "code",
   "execution_count": 149,
   "id": "842ecab1",
   "metadata": {},
   "outputs": [
    {
     "name": "stdout",
     "output_type": "stream",
     "text": [
      "['Oc1ccccc1\\\\C=N\\\\c2ccccc2\\\\N=C\\\\c3ccccc3O' 'Oc1cnc2[nH]c3cnc(cc3c2c1)C#N'\n",
      " 'COc1c(C)c2COC(=O)c2c(O)c1CCOP(=O)(O)CCSc3nc4c(N)ncnc4n3[C@H]5O[C@@H](CO)[C@H](O)[C@@H]5O'\n",
      " ... 'COc1ccc(CC(=O)NC(=N)N[C@H](CC(C)C)C(=O)NCc2ccc(cc2)c3nnn[nH]3)cc1OC'\n",
      " 'CSc1ccc(cc1)c2cn(C)nc2C3CCC(F)(F)CC3C(=O)NCC#N'\n",
      " 'Oc1c2C(=O)N(Cc3ccccc3Br)C(=O)c2c(O)c4nccnc14']\n"
     ]
    }
   ],
   "source": [
    "print(train_smiles)\n"
   ]
  },
  {
   "cell_type": "code",
   "execution_count": 120,
   "id": "ae5067fe",
   "metadata": {},
   "outputs": [
    {
     "name": "stdout",
     "output_type": "stream",
     "text": [
      "['#', '%', '(', ')', '+', '-', '/', '0', '1', '2', '3', '4', '5', '6', '7', '8', '9', '=', '@', 'A', 'B', 'C', 'F', 'H', 'I', 'N', 'O', 'P', 'S', '[', '\\\\', ']', 'c', 'e', 'i', 'l', 'n', 'o', 'r', 's']\n",
      "Number of tokens:  40\n"
     ]
    }
   ],
   "source": [
    "tokens = set()\n",
    "\n",
    "# each SMILES is in its own array\n",
    "# for s in train_smiles:\n",
    "#     for c in s:\n",
    "#         tokens = tokens.union(set(cc for cc in c))\n",
    "\n",
    "# for s in test_smiles:\n",
    "#     for c in s:\n",
    "#         tokens = tokens.union(set(cc for cc in c))\n",
    "\n",
    "# for s in valid_smiles:\n",
    "#     for c in s:\n",
    "#         tokens = tokens.union(set(cc for cc in c))\n",
    "\n",
    "        \n",
    "        \n",
    "# All SMILES in one array\n",
    "for s in train_smiles:\n",
    "    tokens = tokens.union(set(c for c in s))\n",
    "\n",
    "for s in test_smiles:\n",
    "    tokens = tokens.union(set(c for c in s))\n",
    "\n",
    "for s in valid_smiles:\n",
    "    tokens = tokens.union(set(c for c in s))\n",
    "\n",
    "\n",
    "# sort tokens\n",
    "tokens = sorted(list(tokens))\n",
    "print(tokens)\n",
    "print(\"Number of tokens: \", len(tokens))\n",
    "\n",
    "## using molnet data (takes a while to download)\n",
    "# tasks, datasets, transformers = dc.molnet.load_chembl25(splitter='stratified')\n",
    "# train_dataset, valid_dataset, test_dataset = datasets\n",
    "# train_smiles = train_dataset.ids\n",
    "# valid_smiles = valid_dataset.ids\n",
    "# test_smiles = test_dataset.ids\n"
   ]
  },
  {
   "cell_type": "code",
   "execution_count": 122,
   "id": "6a645c65",
   "metadata": {},
   "outputs": [
    {
     "name": "stdout",
     "output_type": "stream",
     "text": [
      "100\n"
     ]
    }
   ],
   "source": [
    "# verify that the longest SMILES string is 100\n",
    "print(max(len(x) for x in valid_smiles))"
   ]
  },
  {
   "cell_type": "markdown",
   "id": "aa73c866",
   "metadata": {},
   "source": [
    "### Viewing the distribution of SMILES lengths"
   ]
  },
  {
   "cell_type": "code",
   "execution_count": 123,
   "id": "7435e313",
   "metadata": {},
   "outputs": [
    {
     "data": {
      "text/plain": [
       "(array([0.00015286, 0.00040126, 0.0016146 , 0.00330563, 0.00878953,\n",
       "        0.01199962, 0.02190695, 0.02201204, 0.03109774, 0.02372217,\n",
       "        0.02783988, 0.0184198 , 0.0171969 , 0.0097067 , 0.00856024,\n",
       "        0.00510175, 0.00428967, 0.00226426, 0.00228337, 0.00155728]),\n",
       " array([ 10. ,  14.5,  19. ,  23.5,  28. ,  32.5,  37. ,  41.5,  46. ,\n",
       "         50.5,  55. ,  59.5,  64. ,  68.5,  73. ,  77.5,  82. ,  86.5,\n",
       "         91. ,  95.5, 100. ]),\n",
       " <BarContainer object of 20 artists>)"
      ]
     },
     "execution_count": 123,
     "metadata": {},
     "output_type": "execute_result"
    },
    {
     "data": {
      "image/png": "[encoded data removed]",
      "text/plain": [
       "<Figure size 432x288 with 1 Axes>"
      ]
     },
     "metadata": {
      "needs_background": "light"
     },
     "output_type": "display_data"
    }
   ],
   "source": [
    "import matplotlib.pyplot as plt\n",
    "smiles_list = [len(x) for x in valid_smiles]\n",
    "plt.hist(smiles_list, 20, density = 1, color ='green', alpha = 0.7)"
   ]
  },
  {
   "cell_type": "markdown",
   "id": "8076d84d",
   "metadata": {},
   "source": [
    "### model setup and training"
   ]
  },
  {
   "cell_type": "code",
   "execution_count": 169,
   "id": "e2d872ec",
   "metadata": {},
   "outputs": [
    {
     "name": "stdout",
     "output_type": "stream",
     "text": [
      "Max length of SMILES:  100\n"
     ]
    }
   ],
   "source": [
    "# # Use this when the numpy array is not squeezed\n",
    "# train_max = []\n",
    "# for s in train_smiles:\n",
    "#     for y in s:\n",
    "#         train_max.append(len(y))\n",
    "        \n",
    "        \n",
    "# # print(train_max)\n",
    "\n",
    "# test_max = []\n",
    "# for s in test_smiles:\n",
    "#     for y in s:\n",
    "#         test_max.append(len(y))\n",
    "        \n",
    "        \n",
    "# # print(test_max)\n",
    "\n",
    "# valid_max = []\n",
    "# for s in valid_smiles:\n",
    "#     for y in s:\n",
    "#         valid_max.append(len(y))\n",
    "        \n",
    "        \n",
    "# # print(valid_max)\n",
    "# max_length = max(len(x) for x in s for s in train_smiles)\n",
    "# max_length = max(max(train_max), max(test_max), max(valid_max))\n",
    "\n",
    "\n",
    "# Use this when the numpy arrays have been squeezed\n",
    "train_max = max(len(x) for x in train_smiles)\n",
    "test_max = max(len(x) for x in test_smiles)\n",
    "valid_max = max(len(x) for x in valid_smiles)\n",
    "max_length = max(train_max, test_max, valid_max)\n",
    "print(\"Max length of SMILES: \",max_length)\n",
    "\n",
    "# model params\n",
    "# metric = dc.metrics.Metric(dc.metrics.roc_auc_score)\n",
    "# vc_valid = ValidationCallback(valid_smiles, interval=5, metrics=[metric])\n",
    "batch_size = 128\n",
    "embed=32\n",
    "epoch = 1\n",
    "loss = []\n",
    "batches_per_epoch = len(train_smiles)/batch_size\n",
    "model = dc.models.SeqToSeq(tokens,\n",
    "                           tokens,\n",
    "                           100,\n",
    "                           encoder_layers=4,\n",
    "                           decoder_layers=4,\n",
    "                           embedding_dimension=embed,\n",
    "                           model_dir=f\"chembl25-weights_{epoch}epochs-11-07-2022-test\",\n",
    "                           batch_size=batch_size,\n",
    "                           learning_rate=ExponentialDecay(0.001, 0.9, batches_per_epoch), log_frequency=1) \n",
    "#,wandb_logger=logger),callbacks=[vc_valid], all_losses = loss\n",
    "\n",
    "\n",
    "# # When numpy arrays have not been squeezed\n",
    "# def generate_sequences(epochs):\n",
    "#     for i in trange(epochs):\n",
    "#         for s in train_smiles:\n",
    "#             for ss in s:\n",
    "# #                 print(ss)\n",
    "#                 yield (ss, ss)\n",
    "                \n",
    "\n",
    "# When numpy arrays have been squeezed\n",
    "def generate_sequences(epochs):\n",
    "    for i in trange(epochs):\n",
    "        for ss in train_smiles:\n",
    "            yield (ss, ss)\n"
   ]
  },
  {
   "cell_type": "code",
   "execution_count": 153,
   "id": "99c5fcbc",
   "metadata": {},
   "outputs": [
    {
     "name": "stdout",
     "output_type": "stream",
     "text": [
      "Oc1ccccc1\\C=N\\c2ccccc2\\N=C\\c3ccccc3O\n",
      "Oc1cnc2[nH]c3cnc(cc3c2c1)C#N\n",
      "COc1c(C)c2COC(=O)c2c(O)c1CCOP(=O)(O)CCSc3nc4c(N)ncnc4n3[C@H]5O[C@@H](CO)[C@H](O)[C@@H]5O\n",
      "C[C@H]1CN(CCCN(c2ccccc2)c3ccccc3)C[C@H](C)N1\n",
      "COc1ccc(cc1OCCN2CCCCC2)C3=C(C)CN(C3=O)c4ccc(Cl)c(Cl)c4\n",
      "Oc1ccc2[nH]cc(CCNC(=O)Oc3ccc(Cl)cc3)c2c1\n",
      "CC1(C)N(Cc2cccc(I)c2)C(=O)N(C1=O)c3ccc(C#N)c(c3)C(F)(F)F\n",
      "CN1CC[C@]23Cc4nc5ccccc5cc4C[C@H]2[C@H]1Cc6ccc(O)cc36\n",
      "CN(C)CC1=Nc2c(sc3ccc(cc23)c4ccc(O)cc4)C(=O)N1\n",
      "C[C@H](\\C=C(/C)\\C=C\\C(=O)NO)C(=O)c1ccc(cc1)N(C)C\n",
      "CC1=C(C)c2ccc(OS(=O)(=O)N)cc2OC1=O\n"
     ]
    }
   ],
   "source": [
    "counter = 0\n",
    "for ss in train_smiles:\n",
    "    if counter > 10:\n",
    "        break\n",
    "        \n",
    "    print(ss)\n",
    "    counter +=1"
   ]
  },
  {
   "cell_type": "code",
   "execution_count": 186,
   "id": "23046bc4",
   "metadata": {},
   "outputs": [
    {
     "name": "stderr",
     "output_type": "stream",
     "text": [
      "100%|██████████| 1/1 [00:35<00:00, 35.14s/it]"
     ]
    },
    {
     "name": "stdout",
     "output_type": "stream",
     "text": [
      "None\n",
      "Training complete\n"
     ]
    },
    {
     "name": "stderr",
     "output_type": "stream",
     "text": [
      "\n"
     ]
    }
   ],
   "source": [
    "print(model.fit_sequences(generate_sequences(epoch)))\n",
    "print(\"Training complete\")"
   ]
  },
  {
   "cell_type": "code",
   "execution_count": 185,
   "id": "4eedd0a8",
   "metadata": {},
   "outputs": [
    {
     "ename": "AttributeError",
     "evalue": "'super' object has no attribute 'loss_fn'",
     "output_type": "error",
     "traceback": [
      "\u001b[0;31m---------------------------------------------------------------------------\u001b[0m",
      "\u001b[0;31mAttributeError\u001b[0m                            Traceback (most recent call last)",
      "Input \u001b[0;32mIn [185]\u001b[0m, in \u001b[0;36m<cell line: 1>\u001b[0;34m()\u001b[0m\n\u001b[0;32m----> 1\u001b[0m \u001b[38;5;28;43msuper\u001b[39;49m\u001b[43m(\u001b[49m\u001b[43mdc\u001b[49m\u001b[38;5;241;43m.\u001b[39;49m\u001b[43mmodels\u001b[49m\u001b[38;5;241;43m.\u001b[39;49m\u001b[43mSeqToSeq\u001b[49m\u001b[43m,\u001b[49m\u001b[43m \u001b[49m\u001b[43mmodel\u001b[49m\u001b[43m)\u001b[49m\u001b[38;5;241;43m.\u001b[39;49m\u001b[43mloss_fn\u001b[49m()\n",
      "\u001b[0;31mAttributeError\u001b[0m: 'super' object has no attribute 'loss_fn'"
     ]
    }
   ],
   "source": [
    "super(dc.models.SeqToSeq, model)."
   ]
  },
  {
   "cell_type": "code",
   "execution_count": 156,
   "id": "6673b20e",
   "metadata": {},
   "outputs": [
    {
     "data": {
      "text/plain": [
       "'CC[C@@H](Cc1ccc(OC)c(c1)C(=O)NCc2ccc(Oc3ccc(F)cc3)cc2)C(=O)O'"
      ]
     },
     "execution_count": 156,
     "metadata": {},
     "output_type": "execute_result"
    }
   ],
   "source": [
    "valid_smiles[10]"
   ]
  },
  {
   "cell_type": "code",
   "execution_count": 131,
   "id": "1b3fa6c6",
   "metadata": {},
   "outputs": [
    {
     "data": {
      "text/plain": [
       "48"
      ]
     },
     "execution_count": 131,
     "metadata": {},
     "output_type": "execute_result"
    }
   ],
   "source": [
    "len(\"CC1Cc2nn(C)c(c3ccccc3Cl)c2c4nc(Nc5ccn(C)n5)ncc14\")"
   ]
  },
  {
   "cell_type": "code",
   "execution_count": 158,
   "id": "858e5ab6",
   "metadata": {},
   "outputs": [
    {
     "data": {
      "text/plain": [
       "array([[ 0.00468747,  0.9998974 ,  0.98171103,  0.08479983, -0.9947344 ,\n",
       "        -0.1539325 ,  0.17027095,  0.9983924 ,  0.40384707, -0.99999666,\n",
       "         0.56521493,  0.99658406,  0.19168407,  0.99888825, -0.1928592 ,\n",
       "        -0.1175536 , -0.99995583, -0.16622539,  0.9971117 , -0.02710001,\n",
       "         0.34984538,  0.16314808,  0.07148624,  0.99611765,  0.3329139 ,\n",
       "        -0.98738325,  0.9353697 ,  0.42473713,  0.9998943 ,  0.99933547,\n",
       "         0.37530223, -0.5836238 ]], dtype=float32)"
      ]
     },
     "execution_count": 158,
     "metadata": {},
     "output_type": "execute_result"
    }
   ],
   "source": [
    "model.predict_embeddings([valid_smiles[11]])"
   ]
  },
  {
   "cell_type": "code",
   "execution_count": 159,
   "id": "c2e52512",
   "metadata": {},
   "outputs": [
    {
     "data": {
      "text/plain": [
       "[['C', 'O', 'N'], ['O', '1', '1', '1']]"
      ]
     },
     "execution_count": 159,
     "metadata": {},
     "output_type": "execute_result"
    }
   ],
   "source": [
    "model.predict_from_sequences(['CC', 'CCC'])"
   ]
  },
  {
   "cell_type": "code",
   "execution_count": 148,
   "id": "49d2dd4c",
   "metadata": {},
   "outputs": [
    {
     "data": {
      "text/plain": [
       "('Oc1ccccc1\\\\C=N\\\\c2ccccc2\\\\N=C\\\\c3ccccc3O',\n",
       " ['C',\n",
       "  'C',\n",
       "  '1',\n",
       "  '1',\n",
       "  'c',\n",
       "  'c',\n",
       "  'c',\n",
       "  'c',\n",
       "  'c',\n",
       "  'c',\n",
       "  'c',\n",
       "  'c',\n",
       "  'c',\n",
       "  'c',\n",
       "  'c',\n",
       "  'c',\n",
       "  'c',\n",
       "  'c',\n",
       "  'c',\n",
       "  'c',\n",
       "  'c',\n",
       "  'c',\n",
       "  'c',\n",
       "  'c',\n",
       "  'c',\n",
       "  'c',\n",
       "  'c',\n",
       "  'c',\n",
       "  'c',\n",
       "  'c',\n",
       "  'c',\n",
       "  'c',\n",
       "  'c',\n",
       "  'c',\n",
       "  'c',\n",
       "  '3'])"
      ]
     },
     "execution_count": 148,
     "metadata": {},
     "output_type": "execute_result"
    }
   ],
   "source": [
    "train_smiles[0], predicted[0]"
   ]
  },
  {
   "cell_type": "code",
   "execution_count": 163,
   "id": "4a606be3",
   "metadata": {},
   "outputs": [
    {
     "name": "stdout",
     "output_type": "stream",
     "text": [
      "reproduced 1 of 23347 validation SMILES strings\n"
     ]
    }
   ],
   "source": [
    "predicted = model.predict_from_sequences(test_smiles)\n",
    "count = 0\n",
    "for s,p in zip(test_smiles, predicted):\n",
    "    if ''.join(p) == s:\n",
    "        count += 1\n",
    "print('reproduced', count, f\"of {len(test_smiles)} validation SMILES strings\")"
   ]
  },
  {
   "cell_type": "code",
   "execution_count": 167,
   "id": "f9f699eb",
   "metadata": {},
   "outputs": [
    {
     "ename": "NameError",
     "evalue": "name 'self' is not defined",
     "output_type": "error",
     "traceback": [
      "\u001b[0;31m---------------------------------------------------------------------------\u001b[0m",
      "\u001b[0;31mNameError\u001b[0m                                 Traceback (most recent call last)",
      "Input \u001b[0;32mIn [167]\u001b[0m, in \u001b[0;36m<cell line: 1>\u001b[0;34m()\u001b[0m\n\u001b[0;32m----> 1\u001b[0m \u001b[38;5;28msuper\u001b[39m(\u001b[38;5;28;43mself\u001b[39;49m,model)\u001b[38;5;241m.\u001b[39mloss_fn\n",
      "\u001b[0;31mNameError\u001b[0m: name 'self' is not defined"
     ]
    }
   ],
   "source": [
    "super(self,model).loss_fn"
   ]
  }
 ],
 "metadata": {
  "kernelspec": {
   "display_name": "Python 3 (ipykernel)",
   "language": "python",
   "name": "python3"
  },
  "language_info": {
   "codemirror_mode": {
    "name": "ipython",
    "version": 3
   },
   "file_extension": ".py",
   "mimetype": "text/x-python",
   "name": "python",
   "nbconvert_exporter": "python",
   "pygments_lexer": "ipython3",
   "version": "3.8.13"
  }
 },
 "nbformat": 4,
 "nbformat_minor": 5
}
