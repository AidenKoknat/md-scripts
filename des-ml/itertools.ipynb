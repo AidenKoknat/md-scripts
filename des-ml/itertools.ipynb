{
 "cells": [
  {
   "cell_type": "markdown",
   "metadata": {},
   "source": [
    "## itertools and functools experiment\n",
    "Playing around with functions"
   ]
  },
  {
   "cell_type": "markdown",
   "metadata": {},
   "source": [
    "### itertools"
   ]
  },
  {
   "cell_type": "code",
   "execution_count": null,
   "metadata": {},
   "outputs": [],
   "source": [
    "from itertools import cycle\n",
    "\n",
    "for el in cycle(range(10)):\n",
    "    print(el, end=\"\")"
   ]
  },
  {
   "cell_type": "code",
   "execution_count": 2,
   "metadata": {},
   "outputs": [
    {
     "data": {
      "text/plain": [
       "[0, 1, 3, 6, 10, 15, 21, 28, 36, 45]"
      ]
     },
     "execution_count": 2,
     "metadata": {},
     "output_type": "execute_result"
    }
   ],
   "source": [
    "from itertools import accumulate\n",
    "\n",
    "list(accumulate(range(10)))"
   ]
  },
  {
   "cell_type": "code",
   "execution_count": 3,
   "metadata": {},
   "outputs": [
    {
     "name": "stdout",
     "output_type": "stream",
     "text": [
      "A 4\n",
      "B 3\n",
      "C 2\n",
      "D 1\n",
      "A 2\n",
      "B 3\n"
     ]
    }
   ],
   "source": [
    "from itertools import groupby\n",
    "\n",
    "data = 'AAAABBBCCDAABBB'\n",
    "for k, v in groupby(data):\n",
    "    print(k, len(list(v)))"
   ]
  },
  {
   "cell_type": "code",
   "execution_count": 4,
   "metadata": {},
   "outputs": [
    {
     "data": {
      "text/plain": [
       "[('A', 'B'),\n",
       " ('A', 'C'),\n",
       " ('A', 'D'),\n",
       " ('A', 'E'),\n",
       " ('A', 'G'),\n",
       " ('A', 'H'),\n",
       " ('A', 'H'),\n",
       " ('A', 'I'),\n",
       " ('A', 'J'),\n",
       " ('B', 'A'),\n",
       " ('B', 'C'),\n",
       " ('B', 'D'),\n",
       " ('B', 'E'),\n",
       " ('B', 'G'),\n",
       " ('B', 'H'),\n",
       " ('B', 'H'),\n",
       " ('B', 'I'),\n",
       " ('B', 'J'),\n",
       " ('C', 'A'),\n",
       " ('C', 'B'),\n",
       " ('C', 'D'),\n",
       " ('C', 'E'),\n",
       " ('C', 'G'),\n",
       " ('C', 'H'),\n",
       " ('C', 'H'),\n",
       " ('C', 'I'),\n",
       " ('C', 'J'),\n",
       " ('D', 'A'),\n",
       " ('D', 'B'),\n",
       " ('D', 'C'),\n",
       " ('D', 'E'),\n",
       " ('D', 'G'),\n",
       " ('D', 'H'),\n",
       " ('D', 'H'),\n",
       " ('D', 'I'),\n",
       " ('D', 'J'),\n",
       " ('E', 'A'),\n",
       " ('E', 'B'),\n",
       " ('E', 'C'),\n",
       " ('E', 'D'),\n",
       " ('E', 'G'),\n",
       " ('E', 'H'),\n",
       " ('E', 'H'),\n",
       " ('E', 'I'),\n",
       " ('E', 'J'),\n",
       " ('G', 'A'),\n",
       " ('G', 'B'),\n",
       " ('G', 'C'),\n",
       " ('G', 'D'),\n",
       " ('G', 'E'),\n",
       " ('G', 'H'),\n",
       " ('G', 'H'),\n",
       " ('G', 'I'),\n",
       " ('G', 'J'),\n",
       " ('H', 'A'),\n",
       " ('H', 'B'),\n",
       " ('H', 'C'),\n",
       " ('H', 'D'),\n",
       " ('H', 'E'),\n",
       " ('H', 'G'),\n",
       " ('H', 'H'),\n",
       " ('H', 'I'),\n",
       " ('H', 'J'),\n",
       " ('H', 'A'),\n",
       " ('H', 'B'),\n",
       " ('H', 'C'),\n",
       " ('H', 'D'),\n",
       " ('H', 'E'),\n",
       " ('H', 'G'),\n",
       " ('H', 'H'),\n",
       " ('H', 'I'),\n",
       " ('H', 'J'),\n",
       " ('I', 'A'),\n",
       " ('I', 'B'),\n",
       " ('I', 'C'),\n",
       " ('I', 'D'),\n",
       " ('I', 'E'),\n",
       " ('I', 'G'),\n",
       " ('I', 'H'),\n",
       " ('I', 'H'),\n",
       " ('I', 'J'),\n",
       " ('J', 'A'),\n",
       " ('J', 'B'),\n",
       " ('J', 'C'),\n",
       " ('J', 'D'),\n",
       " ('J', 'E'),\n",
       " ('J', 'G'),\n",
       " ('J', 'H'),\n",
       " ('J', 'H'),\n",
       " ('J', 'I')]"
      ]
     },
     "execution_count": 4,
     "metadata": {},
     "output_type": "execute_result"
    }
   ],
   "source": [
    "from itertools import permutations\n",
    "\n",
    "list(permutations('ABCDEGHHIJ',2))"
   ]
  },
  {
   "cell_type": "code",
   "execution_count": 5,
   "metadata": {},
   "outputs": [
    {
     "data": {
      "text/plain": [
       "[10, 35, 60]"
      ]
     },
     "execution_count": 5,
     "metadata": {},
     "output_type": "execute_result"
    }
   ],
   "source": [
    "from itertools import starmap\n",
    "\n",
    "v = starmap(sum, [[range(5)], [range(5,10)], [range(10,15)]])\n",
    "list(v)"
   ]
  },
  {
   "cell_type": "code",
   "execution_count": 6,
   "metadata": {},
   "outputs": [
    {
     "data": {
      "text/plain": [
       "[('A', 'X'), ('B', 'Y'), ('C', 'Z'), ('D', '_'), ('E', '_')]"
      ]
     },
     "execution_count": 6,
     "metadata": {},
     "output_type": "execute_result"
    }
   ],
   "source": [
    "from itertools import zip_longest\n",
    "\n",
    "list(zip_longest('ABCDE', 'XYZ', fillvalue='_'))"
   ]
  },
  {
   "cell_type": "markdown",
   "metadata": {},
   "source": [
    "### functools"
   ]
  },
  {
   "cell_type": "code",
   "execution_count": 8,
   "metadata": {},
   "outputs": [],
   "source": [
    "import functools as f"
   ]
  },
  {
   "cell_type": "code",
   "execution_count": null,
   "metadata": {},
   "outputs": [],
   "source": []
  }
 ],
 "metadata": {
  "kernelspec": {
   "display_name": "base",
   "language": "python",
   "name": "python3"
  },
  "language_info": {
   "codemirror_mode": {
    "name": "ipython",
    "version": 3
   },
   "file_extension": ".py",
   "mimetype": "text/x-python",
   "name": "python",
   "nbconvert_exporter": "python",
   "pygments_lexer": "ipython3",
   "version": "3.9.12 (main, Apr  4 2022, 05:22:27) [MSC v.1916 64 bit (AMD64)]"
  },
  "orig_nbformat": 4,
  "vscode": {
   "interpreter": {
    "hash": "0f1a3e5e264784159d96d6cb623aa79e50e9b26f8ccfa0f832311e87de7f7cca"
   }
  }
 },
 "nbformat": 4,
 "nbformat_minor": 2
}
